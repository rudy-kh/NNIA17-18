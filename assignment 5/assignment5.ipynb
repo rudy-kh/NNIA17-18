{
 "cells": [
  {
   "cell_type": "markdown",
   "metadata": {},
   "source": [
    "# Assignment Sheet 5: Classification with TensorFlow (deadline: 8 Dec, 23:59)"
   ]
  },
  {
   "cell_type": "markdown",
   "metadata": {},
   "source": [
    "---"
   ]
  },
  {
   "cell_type": "markdown",
   "metadata": {},
   "source": [
    "## 1. Practicing Chain-Rule and Backpropagation (5.0 points)"
   ]
  },
  {
   "cell_type": "markdown",
   "metadata": {},
   "source": [
    "Given the following function $$ f(w, b) = \\frac{e^{w+b} w + \\sigma(w) + b}{(\\sigma(b) + \\sigma(w))²}$$ with $\\sigma(x) = \\frac{1}{1+e^{-x}}$ and $w, b \\in \\mathbb{R}$."
   ]
  },
  {
   "cell_type": "markdown",
   "metadata": {},
   "source": [
    "$a)$ Compute the partial derivatives of $f(w, b)$ with respect to $w$ and $b$ analytically. ($0.5$ points)\n",
    "\n",
    "$\\frac{\\partial f}{\\partial w} = \\frac{e^{w+b} (w+1) + \\sigma(w)(1-\\sigma(w))}{(\\sigma(b)+\\sigma(w))^2} - \\frac{2(e^{w+b}w+\\sigma(w)+b)\\sigma(w)(1-\\sigma(w))}{(\\sigma(b)+\\sigma(w))^3}$\n",
    "\n",
    "$\\frac{\\partial f}{\\partial b} = \\frac{e^{w+b}w+1}{(\\sigma(b)+\\sigma(w))^2} - \\frac{2(e^{w+b}w+\\sigma(w)+b)\\sigma(b)(1-\\sigma(b))}{(\\sigma(b)+\\sigma(w))^3}$"
   ]
  },
  {
   "cell_type": "markdown",
   "metadata": {},
   "source": [
    "$b)$ Decompose the function $f(w, b)$ into primitives. Rewrite the function using these primitives. ($0.5$ points)"
   ]
  },
  {
   "cell_type": "code",
   "execution_count": 1,
   "metadata": {
    "collapsed": true
   },
   "outputs": [],
   "source": [
    "import math"
   ]
  },
  {
   "cell_type": "code",
   "execution_count": 2,
   "metadata": {
    "collapsed": true
   },
   "outputs": [],
   "source": [
    "# TODO: Write function primitives in python\n",
    "\n",
    "# Example\n",
    "def square(x):\n",
    "    return x**2\n",
    "\n",
    "def exponent(x):\n",
    "    return math.e ** x\n",
    "\n",
    "def add(x,y):\n",
    "    return x+y\n",
    "\n",
    "def mult(x,y):\n",
    "    return x * y\n",
    "\n",
    "def inverse(x):\n",
    "    return 1 / x\n",
    "\n",
    "def sigmoid(x):\n",
    "    return 1 / (1 + math.e ** (-1 * x))"
   ]
  },
  {
   "cell_type": "markdown",
   "metadata": {},
   "source": [
    "$c)$ Draw a computation graph for the function $f(w, b)$ using the primitives defined above as nodes. You may want to use the [NetworkX](https://networkx.github.io/) library for this task. You can install it by running `conda install networkx` from within your activated *nnia* conda environment. ($1.0$ point)"
   ]
  },
  {
   "cell_type": "code",
   "execution_count": 3,
   "metadata": {},
   "outputs": [
    {
     "data": {
      "image/png": "[encoded data removed]",
      "text/plain": [
       "<matplotlib.figure.Figure at 0x7fa768d5de48>"
      ]
     },
     "metadata": {},
     "output_type": "display_data"
    }
   ],
   "source": [
    "import networkx as nx\n",
    "import matplotlib.pyplot as plt\n",
    "\n",
    "G = nx.DiGraph()\n",
    "pos = {}\n",
    "labels = {}\n",
    "\n",
    "##input layer\n",
    "pos['w'] = (1,1)\n",
    "pos['b'] = (2,1)\n",
    "\n",
    "##second layer\n",
    "pos['sum1'] = (1.5,2)\n",
    "pos['sigma-b'] = (2,2)\n",
    "pos['sigma-w'] = (3,2)\n",
    "pos['sigma-b2'] = (4,2)\n",
    "\n",
    "##third layer\n",
    "pos['exp'] = (1.5,3)\n",
    "pos['sum2'] = (3.5,3)\n",
    "\n",
    "##forth layer\n",
    "pos['sum3'] = (2,4)\n",
    "pos['square'] = (3.5,4)\n",
    "\n",
    "##fifth layer\n",
    "pos['sum4'] = (2.5,5)\n",
    "pos['inverse'] = (3.5,5)\n",
    "\n",
    "##sixth layer\n",
    "pos['mult'] = (3,6)\n",
    "\n",
    "\n",
    "##input layer\n",
    "labels['w'] = 'w'\n",
    "labels['b'] = 'b'\n",
    "\n",
    "##second layer\n",
    "labels['sum1'] = 'sum1'\n",
    "labels['sigma-b'] = 'sigma-b'\n",
    "labels['sigma-w'] = 'sigma-w'\n",
    "labels['sigma-b2'] = 'sigma-b2'\n",
    "\n",
    "##third layer\n",
    "labels['exp'] = 'exp'\n",
    "labels['sum2'] = 'sum2'\n",
    "\n",
    "##forth layer\n",
    "labels['sum3'] = 'sum3'\n",
    "labels['square'] = 'square'\n",
    "\n",
    "##fifth layer\n",
    "labels['sum4'] = 'sum4'\n",
    "labels['inverse'] = 'inverse'\n",
    "\n",
    "##sixth layer\n",
    "labels['mult'] = 'mult'\n",
    "\n",
    "G.add_edge('w','sum1')\n",
    "G.add_edge('b','sum1')\n",
    "\n",
    "G.add_edge('w','sigma-w')\n",
    "G.add_edge('b','sigma-b2')\n",
    "G.add_edge('b','sigma-b')\n",
    "\n",
    "G.add_edge('sigma-w','sum2')\n",
    "G.add_edge('sigma-b2','sum2')\n",
    "\n",
    "G.add_edge('sum2','square')\n",
    "G.add_edge('square','inverse')\n",
    "G.add_edge('inverse','mult')\n",
    "\n",
    "G.add_edge('sum1','exp')\n",
    "G.add_edge('exp','sum3')\n",
    "G.add_edge('sum3','sum4')\n",
    "G.add_edge('sum4','mult')\n",
    "\n",
    "G.add_edge('sigma-b','sum3')\n",
    "\n",
    "G.add_edge('b','sum4')\n",
    "\n",
    "nx.draw_networkx_labels(G,pos,labels, node_color = 'y', node_size = 1000, font_size=8)\n",
    "\n",
    "nx.draw(G, pos, code_color = 'y', node_size = 750)\n",
    "plt.axis('off')\n",
    "plt.show()\n"
   ]
  },
  {
   "cell_type": "markdown",
   "metadata": {},
   "source": [
    "That is ugly :( So we made a new one by hand such as below\n",
    "\n",
    "![image](https://i.imgur.com/z9fCVGM.jpg)"
   ]
  },
  {
   "cell_type": "markdown",
   "metadata": {},
   "source": [
    "$d)$ Specify $\\frac{\\partial}{\\partial x} p_i$ for each of the primitives $p_i$. ($1.0$ points)"
   ]
  },
  {
   "cell_type": "code",
   "execution_count": 4,
   "metadata": {
    "collapsed": true
   },
   "outputs": [],
   "source": [
    "# TODO: Specifiy derivatives of the primitives in python\n",
    "\n",
    "# Example\n",
    "def dsquare(x):\n",
    "    return 2 * x\n",
    "\n",
    "def dexp(x):\n",
    "    return math.e ** x\n",
    "\n",
    "def dadd(x,y):\n",
    "    return 1\n",
    "\n",
    "def dmult1(x,y):\n",
    "    return y\n",
    "\n",
    "def dmult2(x,y):\n",
    "    return x\n",
    "\n",
    "def dinverse(x):\n",
    "    return -1 * x ** (-2)\n",
    "\n",
    "def dsigmoid(x):\n",
    "    return sigmoid(x) * (1-sigmoid(x))\n"
   ]
  },
  {
   "cell_type": "markdown",
   "metadata": {},
   "source": [
    "$e)$ Given the inputs $w = 5, b = -3$. Compute the forward pass of your function. You might want to store the intermediate result in a dictionary in order to later use them in backward pass. ($1.0$ point)"
   ]
  },
  {
   "cell_type": "code",
   "execution_count": 5,
   "metadata": {},
   "outputs": [
    {
     "name": "stdout",
     "output_type": "stream",
     "text": [
      "32.25720062850208\n"
     ]
    }
   ],
   "source": [
    "# Compute the forward pass using the primitives defined above\n",
    "def forward(w, b):\n",
    "    # TODO: Implement\n",
    "    node = {}\n",
    "    node['w'] = w\n",
    "    node['b'] = b\n",
    "    \n",
    "    node['sigmoid1'] = sigmoid(node['w'])\n",
    "    node['sigmoid2'] = sigmoid(node['b'])\n",
    "    \n",
    "    node['sum1'] = add(w,b)\n",
    "    node['exp1'] = exponent(node['sum1'])\n",
    "    node['mult1'] = mult(node['exp1'], node['w'])\n",
    "    node['sum3'] = add(node['mult1'], node['b'])\n",
    "    node['sum4'] = add(node['sum3'], node['sigmoid1'])\n",
    "    \n",
    "\n",
    "    node['sum2'] = add(node['sigmoid1'], node['sigmoid2'])\n",
    "    node['square1'] = square(node['sum2'])\n",
    "    node['inverse1'] = inverse(node['square1'])\n",
    "    \n",
    "    node['f'] = mult(node['sum4'], node['inverse1'])\n",
    "    \n",
    "    return node\n",
    "\n",
    "w = 5\n",
    "b = -3\n",
    "\n",
    "node = forward(w,b)\n",
    "print(node['f'])"
   ]
  },
  {
   "cell_type": "markdown",
   "metadata": {},
   "source": [
    "$f)$ For the same inputs as above, perform the backward pass in order to compute $\\frac{\\partial}{\\partial w}f~\\mid_{w=5, b=-3}$ and $\\frac{\\partial}{\\partial b}f~\\mid_{w=5, b=-3}$. ($1.0$ point)"
   ]
  },
  {
   "cell_type": "code",
   "execution_count": 6,
   "metadata": {},
   "outputs": [
    {
     "name": "stdout",
     "output_type": "stream",
     "text": [
      "7.339260854607883 4.944758552633176\n"
     ]
    }
   ],
   "source": [
    "# TODO: Compute the backward pass using the dnodes of the primitives defined above.\n",
    "def backward(w, b):\n",
    "    # TODO: Implement\n",
    "    dnode = {}\n",
    "\n",
    "    dnode['df-df'] = 1\n",
    "    \n",
    "    dnode['df-dsum4'] = dmult1(\n",
    "        node['sum4'], node['inverse1'])\n",
    "\n",
    "    dnode['dsum4-dsigmoid1'] = dadd(node['sum3'], node['sigmoid1'])\n",
    "    dnode['dsum4-dsum3'] = dadd(node['sum3'], node['sigmoid1'])\n",
    "    \n",
    "    dnode['dsum3-dmult1'] = dadd(node['mult1'], node['b'])\n",
    "    dnode['dsum3-db'] = dadd(node['mult1'], node['b'])\n",
    "\n",
    "    dnode['dmult1-dexp1'] = dadd(node['exp1'], node['w'])\n",
    "    dnode['dmult1-dw'] = dadd(node['exp1'], node['w'])\n",
    "\n",
    "    dnode['dexp1-dsum1'] = dexp(node['sum1'])\n",
    "    dnode['dsum1-dw'] = dadd(node['w'], node['b'])\n",
    "    dnode['dsum1-db'] = dadd(node['w'], node['b'])\n",
    "\n",
    "    dnode['df-dinverse1'] = dmult2(\n",
    "        node['sum4'], node['inverse1'])\n",
    "    dnode['dinverse1-dsquare1'] = dinverse(node['square1'])\n",
    "    dnode['dsquare1-dsum2'] = dsquare(node['sum2'])\n",
    "    dnode['dsum2-dsigmoid1'] = dadd(\n",
    "        node['sigmoid1'], node['sigmoid2'])\n",
    "    dnode['dsum2-dsigmoid2'] = dadd(\n",
    "        node['sigmoid1'], node['sigmoid2'])\n",
    "    \n",
    "    dnode['dsigmoid2-db'] = dsigmoid(node['b'])\n",
    "    dnode['dsigmoid1-dw'] = dsigmoid(node['w'])\n",
    "    \n",
    "    dfdw_path1 = dnode['df-df'] * dnode['df-dsum4'] * dnode['dsum4-dsum3'] * dnode['dsum3-dmult1'] * dnode['dsum3-dmult1'] * dnode['dmult1-dexp1'] * dnode['dexp1-dsum1'] * dnode['dsum1-dw']\n",
    "    dfdw_path2 = dnode['df-df'] * dnode['df-dsum4'] * dnode['dsum4-dsum3'] * dnode['dsum3-dmult1'] * dnode['dmult1-dw']\n",
    "    dfdw_path3 = dnode['df-df'] * dnode['df-dsum4'] * dnode['dsum4-dsigmoid1'] * dnode['dsigmoid1-dw']\n",
    "    dfdw_path4 = dnode['df-df'] * dnode['df-dinverse1'] * dnode['dinverse1-dsquare1'] * dnode['dsquare1-dsum2'] * dnode['dsum2-dsigmoid1'] * dnode['dsigmoid1-dw']\n",
    "    \n",
    "    dfdb_path1 = dnode['df-df'] * dnode['df-dsum4'] * dnode['dsum4-dsum3'] * dnode['dsum3-dmult1'] * dnode['dsum3-dmult1'] * dnode['dmult1-dexp1'] * dnode['dexp1-dsum1'] * dnode['dsum1-db']\n",
    "    dfdb_path2 = dnode['df-df'] * dnode['df-dsum4'] * dnode['dsum4-dsum3'] * dnode['dsum3-db']\n",
    "    dfdb_path3 = dnode['df-df'] * dnode['df-dinverse1'] * dnode['dinverse1-dsquare1'] * dnode['dsquare1-dsum2'] * dnode['dsum2-dsigmoid2'] * dnode['dsigmoid2-db']\n",
    "    \n",
    "    dfdw = dfdw_path1 + dfdw_path2 + dfdw_path3 + dfdw_path4\n",
    "    dfdb = dfdb_path1 + dfdb_path2 + dfdb_path3\n",
    "    \n",
    "    return dfdw, dfdb\n",
    "\n",
    "\n",
    "dfdw, dfdb = backward(w, b)\n",
    "print(dfdw, dfdb)\n"
   ]
  },
  {
   "cell_type": "markdown",
   "metadata": {},
   "source": [
    "## 2. Classification using Feedforward Neural Networks with TensorFlow (12.0 points)"
   ]
  },
  {
   "cell_type": "markdown",
   "metadata": {},
   "source": [
    "In this exercise, you will implement a feedforward neural network using TensorFlow. We will then train the neural network on a simple two class classification problem."
   ]
  },
  {
   "cell_type": "code",
   "execution_count": 7,
   "metadata": {
    "collapsed": true
   },
   "outputs": [],
   "source": [
    "# Imports\n",
    "import numpy as np\n",
    "import tensorflow as tf\n",
    "from sklearn.datasets import make_moons, make_circles\n",
    "from sklearn.model_selection import train_test_split\n",
    "\n",
    "%matplotlib inline\n",
    "import matplotlib.pyplot as plt"
   ]
  },
  {
   "cell_type": "markdown",
   "metadata": {},
   "source": [
    "Let's create some dummy data using the scikit-learn library."
   ]
  },
  {
   "cell_type": "code",
   "execution_count": 8,
   "metadata": {},
   "outputs": [
    {
     "data": {
      "image/png": "[encoded data removed]",
      "text/plain": [
       "<matplotlib.figure.Figure at 0x7fa730d302e8>"
      ]
     },
     "metadata": {},
     "output_type": "display_data"
    }
   ],
   "source": [
    "# Get some data\n",
    "X, y = make_moons(n_samples= 300, noise=0.15, random_state=123)\n",
    "\n",
    "# Split the data into training and test data\n",
    "X_train, X_test, y_train, y_test = train_test_split(X, y, test_size=.1)\n",
    "y_train = np.reshape(y_train, newshape=(-1, 1))\n",
    "y_test = np.reshape(y_test, newshape=(-1, 1))\n",
    "\n",
    "# Plot the training data and color the data point according to their class label\n",
    "fig, axes = plt.subplots(1, 1)\n",
    "axes.scatter(X_train[: , 0], X_train[: , 1], c=y_train.flatten(), cmap='Set1')\n",
    "axes.set_title('Training Data');"
   ]
  },
  {
   "cell_type": "markdown",
   "metadata": {},
   "source": [
    "In the following you are allowed to use predefined functions of the TensorFlow API such as `tf.get_variable()`, `tf.nn.relu(x)` or `tf.random_normal_initializer()`. Addtionally you are allowed to use the gradient descent optimizer `tf.train.GradientDescentOptimizer` predefined by TensorFlow. However, you are not allowed to use any predefined layer from the [API](https://www.tensorflow.org/api_docs/python/tf/layers) such as `tf.Layers.Dense` or `tf.contrib.layers.fully_connected`. It is your task to implement these layers yourself."
   ]
  },
  {
   "cell_type": "markdown",
   "metadata": {},
   "source": [
    "**Before you start**: In this exercise you will implement a single hidden layer feedforward neural network. In case you are unfamiliar with the terminology and notation used here, please consult chapter 6 of the Deep Learning Book before you proceed."
   ]
  },
  {
   "cell_type": "markdown",
   "metadata": {},
   "source": [
    "Generally speaking, a feedword neural network with a single hidden layer can be represented by the following function $$ f(x;\\theta) = f^{(2)}(f^{(1)}(f^{(0)}(x)))$$ where $f^{(0)}(x)$ is the input layer, $f^{(1)}(x)$ is the so called hidden layer, and $f^{(2)}(x)$ is the ouput layer of the network. $\\theta$ represents the parameters of the network whose values will be learned during the training phase."
   ]
  },
  {
   "cell_type": "markdown",
   "metadata": {},
   "source": [
    "The network that you will implement in this exercise has the following layers:\n",
    "* $f^{(0)}(x) = \\mathbf{X}$, with $\\mathbf{X} \\in \\mathbb{R}^{b, p}$ where $b$ is the batch size and $p$ is the number of features.\n",
    "* $f^{(1)}(x) = g(\\mathbf{X} \\mathbf{W_1}+b_1)$, with $\\mathbf{X} \\in \\mathbb{R}^{b, p}$, $\\mathbf{W_1} \\in \\mathbb{R}^{p,u_1}$, $b_1 \\in \\mathbb{R}^{u_1}$ where $u_1$ is the number of **units** of this particular layer. Additonally, $g(x) = \\max{\\{0, x\\}}$ is the so called **rectified linear unit** (*ReLU*) activation function. \n",
    "* $f^{(2)}(x) = \\sigma(\\mathbf{X} \\mathbf{W_2}+b_2)$, with $\\mathbf{X} \\in \\mathbb{R}^{b, u_1}$, $\\mathbf{W_1} \\in \\mathbb{R}^{u_1,u_2}$, $b_1 \\in \\mathbb{R}^{u_2}$ where $u_2$ is the number of **units** of this particular layer. Additonally, $\\sigma(x) = \\frac{1}{1 + \\exp{-x}}$ is the **sigmoid** function.\n",
    "\n",
    "Note that both, $g(x)$ and $\\sigma(x)$ are applied **elementwise**. Further the addition with the bias vector is also applied **elementwise** to each column of the matrix $\\mathbf{X} \\mathbf{W}$."
   ]
  },
  {
   "cell_type": "markdown",
   "metadata": {},
   "source": [
    "$a)$ Start the implementation of your neural network by defining functions for its different layers $f^{(0)}(x),~f^{(1)}(x),~f^{(2)}(x)$. To do so, please complete the functions skeletons below."
   ]
  },
  {
   "cell_type": "markdown",
   "metadata": {},
   "source": [
    "First, implement a linear layer that computes the linear combination $\\mathbf{X} \\mathbf{W}+b$ for a given `input_shape` of $x$ and a given number of hidden units `n_hidden_units`."
   ]
  },
  {
   "cell_type": "code",
   "execution_count": 9,
   "metadata": {
    "collapsed": true
   },
   "outputs": [],
   "source": [
    "# TODO: implement the function below.\n",
    "# Hint: The following methods might be useful: tf.get_variable(), tf.random_normal_initializer(), tf.matmul(), tf.get_variable()\n",
    "def linear_layer(input_shape, n_hidden_units, x):\n",
    "    \"\"\"\n",
    "    Define a linear layer for your neural network.\n",
    "    :param input_shape: The shape of the input for the layer. Be careful to consider that your data comes in batches. \n",
    "    :param n_hidden: The number of hidden units.\n",
    "    :param x: The input to the layer.\n",
    "    :return: A tuple where the first element is the linear combination of the input with the weights and the biases of the linear layer and the second element is the shape of the output matrix.\n",
    "    \"\"\"\n",
    "    output_shape = [input_shape[0], n_hidden_units]\n",
    "    \n",
    "    W = tf.get_variable(\"W\", [input_shape[1], n_hidden_units], dtype=tf.float32, initializer=tf.random_normal_initializer())\n",
    "    b = tf.get_variable(\"b\", n_hidden_units, initializer=tf.constant_initializer(0.01))\n",
    "    \n",
    "    return (tf.add(tf.matmul(x, W),b), output_shape)"
   ]
  },
  {
   "cell_type": "markdown",
   "metadata": {},
   "source": [
    "Next, implement a function that computes the ReLU nonlinearity."
   ]
  },
  {
   "cell_type": "code",
   "execution_count": 10,
   "metadata": {
    "collapsed": true
   },
   "outputs": [],
   "source": [
    "# TODO: implement the function below.\n",
    "def relu(x):\n",
    "    \"\"\"\n",
    "    Define the ReLU activation function.\n",
    "    :param x: The input to the activation function.\n",
    "    :return: The output of the activation function.\n",
    "    \"\"\"\n",
    "    return  tf.nn.relu(x)"
   ]
  },
  {
   "cell_type": "markdown",
   "metadata": {},
   "source": [
    "Next, implement a function that computes the sigmoid nonlinearity."
   ]
  },
  {
   "cell_type": "code",
   "execution_count": 11,
   "metadata": {
    "collapsed": true
   },
   "outputs": [],
   "source": [
    "# TODO: implement the function below.\n",
    "def sigmoid(x):\n",
    "    \"\"\"\n",
    "    Define the sigmoid activation function.\n",
    "    :param x: The input to the activation function.\n",
    "    :return: The output of the activation function.\n",
    "    \"\"\"\n",
    "    return tf.sigmoid(x)"
   ]
  },
  {
   "cell_type": "markdown",
   "metadata": {},
   "source": [
    "Additional to the layers above, you need to implement a layer that computes to loss between the prediction of your model and the actual label of your data. For the **loss function** of the network we are going to use the cross entropy between the model logits and the true labels. Take a look at the TensorFlow [API](https://www.tensorflow.org/api_docs/python/tf/nn/sigmoid_cross_entropy_with_logits) for further details. You also might want to take a look at page 128 in the Deep Learning Book for further information."
   ]
  },
  {
   "cell_type": "code",
   "execution_count": 12,
   "metadata": {
    "collapsed": true
   },
   "outputs": [],
   "source": [
    "# TODO: implement the function below.\n",
    "def cross_entropy_loss(labels, unscaled_logits):\n",
    "    \"\"\"\n",
    "    Define the cross entropy loss function between the true labels and the model predictions. Be careful to consider that your data comes in batches.\n",
    "    :param labels: The true labels.\n",
    "    :param unscaled_logits: The final activations produced by your model.\n",
    "    :return: The loss value (a scalar).\n",
    "    \"\"\"\n",
    "    #prediction = inference(unscaled_logits)\n",
    "    return tf.nn.sigmoid_cross_entropy_with_logits(labels=labels, logits= unscaled_logits)"
   ]
  },
  {
   "cell_type": "markdown",
   "metadata": {},
   "source": [
    "Using the layers above, you can now define a function that specifies the forward pass through your network. Please make sure that the first hidden layer has $128$ hidden units and the output layer has $1$ hidden unit. **Note**: Make sure that the forward pass does not compute the final prediction of your network, i.e the value returned by the function below should be used as the input to the *sigmoid* function."
   ]
  },
  {
   "cell_type": "code",
   "execution_count": 13,
   "metadata": {
    "collapsed": true
   },
   "outputs": [],
   "source": [
    "n_hidden_units = 128\n",
    "\n",
    "# TODO: implement the function below. This is where you build up your model architecture using the layers defined above.\n",
    "def forward(x, input_shape):\n",
    "    \"\"\"\n",
    "    Define the forward pass of your network. Be careful to consider that your data comes in batches.\n",
    "    :param x: The input to your model.\n",
    "    :param input_shape: The shape of the input.\n",
    "    :return: The (unscaled) logit computed by the network.\n",
    "    \"\"\"\n",
    "    with tf.variable_scope(\"hidden_layer\"):\n",
    "        linear_model, output_size = linear_layer(input_shape, n_hidden_units, x)\n",
    "    with tf.variable_scope(\"output\"):\n",
    "        output,_ = linear_layer(output_size, 1, relu(linear_model))\n",
    "    \n",
    "    return output"
   ]
  },
  {
   "cell_type": "markdown",
   "metadata": {},
   "source": [
    "Now that the first part of the forward path of the neural network is defined, we need a function that computes the actual predictions of the model using the activations returned by `forward`."
   ]
  },
  {
   "cell_type": "code",
   "execution_count": 14,
   "metadata": {
    "collapsed": true
   },
   "outputs": [],
   "source": [
    "# TODO: implement the function below.\n",
    "def inference(unscaled_logits):\n",
    "    \"\"\"\n",
    "    Define the predictions computed by your network\n",
    "    :param unscaled_logits: The (unscaled) logit computed by the network.\n",
    "    :return: The prediction of your model on input x.\n",
    "    \"\"\"\n",
    "    return sigmoid(unscaled_logits)"
   ]
  },
  {
   "cell_type": "markdown",
   "metadata": {},
   "source": [
    "Using the `cross_entropy` layer and the `forward` function defined above, please implement the loss function for your network."
   ]
  },
  {
   "cell_type": "code",
   "execution_count": 15,
   "metadata": {
    "collapsed": true
   },
   "outputs": [],
   "source": [
    "# TODO: implement the function below.\n",
    "def loss(x, y, input_shape):\n",
    "    \"\"\"\n",
    "    Define the loss between the prediction of your model and the actual label.\n",
    "    :param x: The input to your model.\n",
    "    :param y: The shape of the input.\n",
    "    :param input_shape: The loss between what your model predicts and the true label.\n",
    "    :return: \n",
    "    \"\"\"\n",
    "    return cross_entropy_loss(y, forward(x, input_shape))"
   ]
  },
  {
   "cell_type": "markdown",
   "metadata": {},
   "source": [
    "$b)$ Define the computation graph of your model using the functions implemented above."
   ]
  },
  {
   "cell_type": "markdown",
   "metadata": {},
   "source": [
    "So far, all that you have done was defining functions that return a **symbolic representation** of the functions computed inside your network. Remember that when using TensorFlow you always need to define a computation graph of your model. Now, use the functions implemented above to define the computation graph for your model."
   ]
  },
  {
   "cell_type": "code",
   "execution_count": 16,
   "metadata": {
    "collapsed": true
   },
   "outputs": [],
   "source": [
    "# Define the computational graph for your model\n",
    "input_shape = (None, 2) # each input has 2 features\n",
    "output_shape = (None, 1) # the output of the model is a scalar corresponding to the probability of belong to class 1 or 2.\n",
    "\n",
    "# TODO: Define placeholders for the input and output\n",
    "inputs = tf.placeholder(\"float\", input_shape)\n",
    "labels = tf.placeholder(\"float\", output_shape)\n",
    "\n",
    "# TODO: Define the model final activations, predictions and loss of the network\n",
    "with tf.variable_scope(\"model\") as scope:\n",
    "    logits = forward(inputs, input_shape)\n",
    "    predictions = inference(logits)\n",
    "    scope.reuse_variables()\n",
    "    loss = tf.reduce_mean(loss(inputs, labels, input_shape))\n",
    "    label_predictions = tf.greater_equal(predictions, 0.5)\n",
    "    label_predictions_float = tf.cast(label_predictions, tf.int32)\n",
    "    true_counts = tf.reduce_sum(tf.cast(tf.equal(tf.cast(label_predictions, tf.float32),labels), tf.float32))"
   ]
  },
  {
   "cell_type": "markdown",
   "metadata": {},
   "source": [
    "$b)$ Now that we have defined a computation graph for our model we need to train it on training data. Hence, define the optimizer for your model and implement the training loop. After each epoch, print the accuracy of your model on the training data. Once training phase is done, evaluate the test accuracy of your model and plot the **decision boundary** of your trained model."
   ]
  },
  {
   "cell_type": "markdown",
   "metadata": {},
   "source": [
    "Hint: When evaluating the predictions of your model make sure to compute the class labels from the output of the sigmoid layer before comparing them to the ground truth labels. As a threshold use $0.5$."
   ]
  },
  {
   "cell_type": "code",
   "execution_count": 17,
   "metadata": {
    "collapsed": true
   },
   "outputs": [],
   "source": [
    "# shuffle only the training data along axis 0\n",
    "def shuffle_train_data(X_train, Y_train):\n",
    "    \"\"\"called after each epoch\"\"\"\n",
    "    perm = np.random.permutation(len(Y_train))\n",
    "    Xtr_shuf = X_train[perm]\n",
    "    Ytr_shuf = Y_train[perm]\n",
    "    \n",
    "    return Xtr_shuf, Ytr_shuf"
   ]
  },
  {
   "cell_type": "code",
   "execution_count": 18,
   "metadata": {
    "collapsed": true
   },
   "outputs": [],
   "source": [
    "# TODO: Define the gradient descent optimizer\n",
    "learning_rate = 1e-1\n",
    "optimizer = tf.train.GradientDescentOptimizer(learning_rate)\n",
    "train_op = optimizer.minimize(loss)"
   ]
  },
  {
   "cell_type": "code",
   "execution_count": 19,
   "metadata": {},
   "outputs": [
    {
     "name": "stdout",
     "output_type": "stream",
     "text": [
      "Epoch: 0001 accuracy=0.737037037\n",
      "Epoch: 0002 accuracy=0.855555556\n",
      "Epoch: 0003 accuracy=0.866666667\n",
      "Epoch: 0004 accuracy=0.900000000\n",
      "Epoch: 0005 accuracy=0.911111111\n",
      "Epoch: 0006 accuracy=0.903703704\n",
      "Epoch: 0007 accuracy=0.937037037\n",
      "Epoch: 0008 accuracy=0.918518519\n",
      "Epoch: 0009 accuracy=0.937037037\n",
      "Epoch: 0010 accuracy=0.948148148\n",
      "Optimization Finished! Time to test it...\n",
      "Test data accuracy: 0.933333333\n"
     ]
    }
   ],
   "source": [
    "# Define training parameters\n",
    "epochs = 10 # we train our model for 10 epochs. You can change this value to observe how the accuracy changes.\n",
    "batch_size = 10 # we use a fixed batch size of 10 data points per batch.\n",
    "n = len(X_train)\n",
    "# Define initialization variables\n",
    "init = tf.global_variables_initializer()\n",
    "\n",
    "# Some more parameters for generating plot\n",
    "# Some parameters to generate grid\n",
    "x_min, x_max = X_train[:, 0].min() - .5, X_train[:, 0].max() + .5\n",
    "y_min, y_max = X_train[:, 1].min() - .5, X_train[:, 1].max() + .5\n",
    "# Grid distance\n",
    "h = 0.01\n",
    "\n",
    "# Generate a grid of points with distance h between them\n",
    "xx, yy = np.meshgrid(np.arange(x_min, x_max, h), np.arange(y_min, y_max, h))\n",
    "# Start a Session \n",
    "with tf.Session() as sess:\n",
    "    sess.run(init)\n",
    "    \n",
    "    # TODO: Perform training\n",
    "    for epoch in range(epochs):\n",
    "        X_train_epoch, y_train_epoch = shuffle_train_data(X_train, y_train)\n",
    "        bs = 0\n",
    "        accurate_counts = 0\n",
    "        while bs < n:\n",
    "            if(n - bs > batch_size):\n",
    "                X_batch = X_train_epoch[bs : bs + batch_size,]\n",
    "                y_batch = y_train_epoch[bs : bs + batch_size,]\n",
    "            else:\n",
    "                X_batch = X_train_epoch[bs : n, ]\n",
    "                y_batch = y_train_epoch[bs : n, ]\n",
    "                \n",
    "            _, batch_loss, batch_true_counts = sess.run([train_op, loss, true_counts], feed_dict={inputs: X_batch, labels: y_batch})\n",
    "                     \n",
    "            accurate_counts += batch_true_counts\n",
    "            bs += batch_size\n",
    "        accuracy = accurate_counts / n\n",
    "        print(\"Epoch:\", '%04d' % (epoch+1), \"accuracy={:.9f}\".format(accuracy))\n",
    "        \n",
    "    print (\"Optimization Finished! Time to test it...\")\n",
    "    \n",
    "    test_accurate_counts = sess.run(true_counts, feed_dict={inputs: X_test, labels: y_test})\n",
    "    test_accuracy = test_accurate_counts / X_test.shape[0]\n",
    "    \n",
    "    print(\"Test data accuracy: {:.9f}\".format(test_accuracy))\n",
    "    \n",
    "    # Run a single iteration to get the label for plotting\n",
    "    all_training_label_predictions = sess.run(label_predictions, feed_dict={inputs: X_train, labels: y_train})\n",
    "    #predict every points in grid\n",
    "    mesh_label_predictions = sess.run(label_predictions, feed_dict={inputs: np.c_[xx.ravel(), yy.ravel()]})"
   ]
  },
  {
   "cell_type": "code",
   "execution_count": 20,
   "metadata": {},
   "outputs": [
    {
     "data": {
      "image/png": "[encoded data removed]",
      "text/plain": [
       "<matplotlib.figure.Figure at 0x7fa730aa90b8>"
      ]
     },
     "metadata": {},
     "output_type": "display_data"
    }
   ],
   "source": [
    "# Scatter plot of training data\n",
    "all_training_label_predictions= np.reshape(all_training_label_predictions, newshape=(-1, 1))\n",
    "\n",
    "# Plot the contour and training examples\n",
    "fig, axes = plt.subplots(1, 1)\n",
    "mesh_label_predictions = mesh_label_predictions.reshape(xx.shape)\n",
    "plt.contourf(xx, yy, mesh_label_predictions, cmap=plt.cm.Spectral)\n",
    "plt.scatter(X_train[:, 0], X_train[:, 1], c=all_training_label_predictions.flatten(), cmap=plt.cm.Spectral)\n",
    "axes.set_title('Training Data');\n",
    "plt.show()"
   ]
  },
  {
   "cell_type": "markdown",
   "metadata": {},
   "source": [
    "$d)$ **Bonus**: Restructure your code in order to use TensorBoard for displaying the computation graph defined by your model. Additonally, use TensorBoard to log the training and test accuracy of your network during training. (See [here](https://www.tensorflow.org/get_started/summaries_and_tensorboard) for an introduction to TensorBoard.) (+ $2.0$ points)"
   ]
  },
  {
   "cell_type": "markdown",
   "metadata": {},
   "source": [
    "## 3. Role of the activation function (3.0 points)"
   ]
  },
  {
   "cell_type": "markdown",
   "metadata": {},
   "source": [
    "For this exercise it is useful to have a plot of the decision boundary of your trained model."
   ]
  },
  {
   "cell_type": "markdown",
   "metadata": {},
   "source": [
    "$a)$ Remove the nonlinearity in your TensorFlow model above, then retrain the model and evaluate its accuracy. What do you observe? ($1.0$ point)"
   ]
  },
  {
   "cell_type": "code",
   "execution_count": 21,
   "metadata": {},
   "outputs": [
    {
     "name": "stdout",
     "output_type": "stream",
     "text": [
      "epoch :  0   Train accuracy with eval :  0.77037037037\n",
      "epoch :  1   Train accuracy with eval :  0.788888888889\n",
      "epoch :  2   Train accuracy with eval :  0.8\n",
      "epoch :  3   Train accuracy with eval :  0.82962962963\n",
      "epoch :  4   Train accuracy with eval :  0.803703703704\n",
      "epoch :  5   Train accuracy with eval :  0.781481481481\n",
      "epoch :  6   Train accuracy with eval :  0.788888888889\n",
      "epoch :  7   Train accuracy with eval :  0.814814814815\n",
      "epoch :  8   Train accuracy with eval :  0.811111111111\n",
      "epoch :  9   Train accuracy with eval :  0.814814814815\n",
      "model accuracy is :  0.766666666667\n"
     ]
    }
   ],
   "source": [
    "#### Model 2. Hidden layer without activation function\n",
    "\n",
    "n_hidden_units = 128\n",
    "def forward_2(x, input_shape):\n",
    "   \n",
    "    with tf.variable_scope(\"hidden_layer_model_2\"):\n",
    "        output1, next_layer_shape = linear_layer(input_shape, n_hidden_units, x)\n",
    "        \n",
    "    with tf.variable_scope(\"output_layer_model_2\"):\n",
    "        unscaled_logits,_ = linear_layer(next_layer_shape, 1, output1)\n",
    "   \n",
    "    return unscaled_logits\n",
    "\n",
    "\n",
    "def loss_2(x, y, input_shape):\n",
    "    \n",
    "    logits = forward_2(x, input_shape)\n",
    "    entropy = cross_entropy_loss(y, logits)\n",
    "\n",
    "    return entropy\n",
    "\n",
    "\n",
    "with tf.variable_scope(\"model_2\") as scope:\n",
    "    logits2 = forward_2(inputs, input_shape)\n",
    "    pred2 = inference(logits2)\n",
    "    scope.reuse_variables()\n",
    "    loss2 = tf.reduce_mean(loss_2(inputs, labels, input_shape))\n",
    "    label_predictions2 = tf.greater_equal(pred2, 0.5)\n",
    "    true_counts2 = tf.reduce_sum(tf.cast(tf.equal(tf.cast(label_predictions2, tf.float32),labels), tf.float32))\n",
    "\n",
    "    optimizer2 = tf.train.GradientDescentOptimizer(learning_rate)\n",
    "    training_op2 = optimizer2.minimize(loss2)\n",
    "\n",
    "\n",
    "init2 = tf.global_variables_initializer()\n",
    "n = len(X_train)\n",
    "\n",
    "# Start a Session \n",
    "\n",
    "with tf.Session() as sess:\n",
    "    sess.run(init2)\n",
    "   \n",
    "    for epoch in range(epochs):\n",
    "        \n",
    "        total_correct_preds2 = 0\n",
    "        X_train_epoch, y_train_epoch = shuffle_train_data(X_train, y_train)\n",
    "        bs2 = 0\n",
    "        while bs2 < n:\n",
    "            if(n - bs2 > batch_size):\n",
    "                X_batch = X_train_epoch[bs2 : bs2 + batch_size,]\n",
    "                y_batch = y_train_epoch[bs2 : bs2 + batch_size,]\n",
    "            else:\n",
    "                X_batch = X_train_epoch[bs2 : n, ]\n",
    "                y_batch = y_train_epoch[bs2 : n, ]\n",
    "            \n",
    "            _ , true_counts_2= sess.run([training_op2, true_counts2], feed_dict={inputs: X_batch, labels: y_batch})\n",
    "           \n",
    "            total_correct_preds2 += true_counts_2\n",
    "            bs2 += batch_size\n",
    "       \n",
    "        \n",
    "        print(\"epoch : \",epoch, \"  Train accuracy with eval : \", total_correct_preds2 / n)\n",
    "   \n",
    "    ## Test model\n",
    "    test_model2 = sess.run(true_counts2,feed_dict={inputs : X_test, labels : y_test})\n",
    "    print (\"model accuracy is : \", test_model2 / len(X_test))\n",
    "    \n",
    "    # Run a single iteration to get the label for plotting\n",
    "    all_training_label_predictions2 = sess.run(label_predictions2, feed_dict={inputs: X_train, labels: y_train})\n",
    "    #predict every points in grid\n",
    "    mesh_label_predictions2 = sess.run(label_predictions2, feed_dict={inputs: np.c_[xx.ravel(), yy.ravel()]})"
   ]
  },
  {
   "cell_type": "code",
   "execution_count": 22,
   "metadata": {},
   "outputs": [
    {
     "data": {
      "image/png": "[encoded data removed]",
      "text/plain": [
       "<matplotlib.figure.Figure at 0x7fa72ca330b8>"
      ]
     },
     "metadata": {},
     "output_type": "display_data"
    }
   ],
   "source": [
    "# Scatter plot of training data\n",
    "all_training_label_predictions2= np.reshape(all_training_label_predictions2, newshape=(-1, 1))\n",
    "\n",
    "# Plot the contour and training examples\n",
    "fig, axes = plt.subplots(1, 1)\n",
    "mesh_label_predictions2 = mesh_label_predictions2.reshape(xx.shape)\n",
    "plt.contourf(xx, yy, mesh_label_predictions2, cmap=plt.cm.Spectral)\n",
    "plt.scatter(X_train[:, 0], X_train[:, 1], c=all_training_label_predictions2.flatten(), cmap=plt.cm.Spectral)\n",
    "axes.set_title('Training Data');\n",
    "plt.show()"
   ]
  },
  {
   "cell_type": "markdown",
   "metadata": {},
   "source": [
    "We observe that the train model has a lower accuracy compared with the original one. From the plot, we can also see that the boundary is a linear line and underfitting the data. Why? it is explained on the c) part"
   ]
  },
  {
   "cell_type": "markdown",
   "metadata": {},
   "source": [
    "$b$) With the nonlinearity removed, do the following: Add an additional hidden layer without nonlinearity in the `forward()` function. Retrain the model and evaluate its accuracy. What do you observe? ($1.0$ point)"
   ]
  },
  {
   "cell_type": "code",
   "execution_count": 23,
   "metadata": {},
   "outputs": [
    {
     "name": "stdout",
     "output_type": "stream",
     "text": [
      "epoch :  0   Train accuracy with eval :  0.751851851852\n",
      "epoch :  1   Train accuracy with eval :  0.814814814815\n",
      "epoch :  2   Train accuracy with eval :  0.844444444444\n",
      "epoch :  3   Train accuracy with eval :  0.833333333333\n",
      "epoch :  4   Train accuracy with eval :  0.833333333333\n",
      "epoch :  5   Train accuracy with eval :  0.844444444444\n",
      "epoch :  6   Train accuracy with eval :  0.840740740741\n",
      "epoch :  7   Train accuracy with eval :  0.851851851852\n",
      "epoch :  8   Train accuracy with eval :  0.837037037037\n",
      "epoch :  9   Train accuracy with eval :  0.837037037037\n",
      "model accuracy is :  0.9\n"
     ]
    }
   ],
   "source": [
    "###### Model 3 with 2 hidden layers\n",
    "\n",
    "n_hidden_units = 128\n",
    "def forward_3(x, input_shape):\n",
    "   \n",
    "    with tf.variable_scope(\"hidden_layer_1\"):\n",
    "        linear_model1, next_layer_shape1 = linear_layer(input_shape, n_hidden_units, x)\n",
    "    \n",
    "    with tf.variable_scope(\"hidden_layer_2\"):\n",
    "        linear_model2, next_layer_shape2 = linear_layer(next_layer_shape1, 10, linear_model1)\n",
    "        \n",
    "    with tf.variable_scope(\"output_layer_model_3\"):\n",
    "        unscaled_logits,_ = linear_layer(next_layer_shape2, 1, linear_model2)\n",
    "   \n",
    "    return unscaled_logits\n",
    "\n",
    "\n",
    "def loss_3(x, y, input_shape):\n",
    "    \n",
    "    logits = forward_3(x, input_shape)\n",
    "    entropy = cross_entropy_loss(y, logits)\n",
    "\n",
    "    return entropy\n",
    "\n",
    "\n",
    "with tf.variable_scope(\"model_3\") as scope:\n",
    "    logits3 = forward_3(inputs, input_shape)\n",
    "    pred3 = inference(logits3)\n",
    "    scope.reuse_variables()\n",
    "    loss3 = tf.reduce_mean(loss_3(inputs, labels, input_shape))\n",
    "    label_predictions3 = tf.greater_equal(pred3, 0.5)\n",
    "    true_counts3 = tf.reduce_sum(tf.cast(tf.equal(tf.cast(label_predictions3, tf.float32),labels), tf.float32))\n",
    "\n",
    "    optimizer3 = tf.train.GradientDescentOptimizer(learning_rate)\n",
    "    training_op3 = optimizer2.minimize(loss3)\n",
    "\n",
    "\n",
    "init3 = tf.global_variables_initializer()\n",
    "n = len(X_train)\n",
    "\n",
    "# Start a Session \n",
    "\n",
    "with tf.Session() as sess:\n",
    "    sess.run(init3)\n",
    "   \n",
    "    for epoch in range(epochs):\n",
    "        \n",
    "        total_correct_preds3 = 0\n",
    "        X_train_epoch, y_train_epoch = shuffle_train_data(X_train, y_train)\n",
    "        bs3 = 0\n",
    "        while bs3 < n:\n",
    "            if(n - bs3 > batch_size):\n",
    "                X_batch = X_train_epoch[bs3 : bs3 + batch_size,]\n",
    "                y_batch = y_train_epoch[bs3 : bs3 + batch_size,]\n",
    "            else:\n",
    "                X_batch = X_train_epoch[bs3 : n, ]\n",
    "                y_batch = y_train_epoch[bs3 : n, ]\n",
    "            \n",
    "            _ , true_counts_3= sess.run([training_op3, true_counts3], feed_dict={inputs: X_batch, labels: y_batch})\n",
    "           \n",
    "            total_correct_preds3 += true_counts_3\n",
    "            bs3 += batch_size\n",
    "       \n",
    "        \n",
    "        print(\"epoch : \",epoch, \"  Train accuracy with eval : \", total_correct_preds3 / n)\n",
    "   \n",
    "    ## Test model\n",
    "    test_model3 = sess.run(true_counts3,feed_dict={inputs : X_test, labels : y_test})\n",
    "    print (\"model accuracy is : \", test_model3 / len(X_test))\n",
    "    \n",
    "    # Run a single iteration to get the label for plotting\n",
    "    all_training_label_predictions3 = sess.run(label_predictions3, feed_dict={inputs: X_train, labels: y_train})\n",
    "    #predict every points in grid\n",
    "    mesh_label_predictions3 = sess.run(label_predictions3, feed_dict={inputs: np.c_[xx.ravel(), yy.ravel()]})"
   ]
  },
  {
   "cell_type": "markdown",
   "metadata": {},
   "source": [
    "The same behaviour is happening as the a) part. it's underfitting and its accuracy is low compared with original neural network. it's indicating that adding a new hidden layer without non-linear activation function doesn't help to increase the capacity of the model and doesn't increase the performance of the system"
   ]
  },
  {
   "cell_type": "code",
   "execution_count": 24,
   "metadata": {},
   "outputs": [
    {
     "data": {
      "image/png": "[encoded data removed]",
      "text/plain": [
       "<matplotlib.figure.Figure at 0x7fa730a797b8>"
      ]
     },
     "metadata": {},
     "output_type": "display_data"
    }
   ],
   "source": [
    "# Scatter plot of training data\n",
    "all_training_label_predictions3= np.reshape(all_training_label_predictions3, newshape=(-1, 1))\n",
    "\n",
    "# Plot the contour and training examples\n",
    "fig, axes = plt.subplots(1, 1)\n",
    "mesh_label_predictions3 = mesh_label_predictions3.reshape(xx.shape)\n",
    "plt.contourf(xx, yy, mesh_label_predictions3, cmap=plt.cm.Spectral)\n",
    "plt.scatter(X_train[:, 0], X_train[:, 1], c=all_training_label_predictions3.flatten(), cmap=plt.cm.Spectral)\n",
    "axes.set_title('Training Data');\n",
    "plt.show()"
   ]
  },
  {
   "cell_type": "markdown",
   "metadata": {},
   "source": [
    "$c$) What is the reason for this behaviour? Can you come up with a proof of the underlying mathematical fact? ($1.0$ point)\n",
    "\n",
    "The reason is that a neural network without activation function in the hidden layer behaves like a linear logistic classifier and can't fit the model well. The model losts much of its capacity with removal of the non-linear activation function.\n",
    "\n",
    "Mathematical proof is below:\n",
    "\n",
    "Input = $\\mathbf{X}$\n",
    "\n",
    "$\\textbf{Z1} = \\textbf{X}\\textbf{W1} + \\textbf{b1}$\n",
    "\n",
    "$\\textbf {Z2}  = \\textbf{Z1}\\textbf{W2} + \\textbf{b2} = (\\textbf{XW1} + \\textbf{b1})\\textbf W2 + \\textbf b2$\n",
    "\n",
    "$= \\textbf{XW1W2} + \\textbf{b1W2} + \\textbf{b2} = \\textbf{XW3} + \\textbf{b3}$, with $\\mathbf{W3} = \\mathbf{W1W2}$ and $\\mathbf{b3} = \\mathbf{b1W2} + \\mathbf{b2}$\n",
    "which is again a linear combination w.r.t. the input $\\mathbf{X}$"
   ]
  },
  {
   "cell_type": "markdown",
   "metadata": {},
   "source": [
    "---"
   ]
  },
  {
   "cell_type": "markdown",
   "metadata": {},
   "source": [
    "## Submission instructions\n",
    "You should provide a single Jupyter notebook as a solution. The naming should include the assignment number and matriculation IDs of all team members in the following format:\n",
    "**assignment-5_matriculation1_matriculation_2_matriculation3.ipynb** (in case of 3 team members). \n",
    "Make sure to keep the order matriculation1_matriculation_2_matriculation3 the same for all assignments.\n",
    "\n",
    "Please, submit your solution to your tutor (with **[NNIA][assignment-5]** in email subject):\n",
    "1. Maksym Andriushchenko s8mmandr@stud.uni-saarland.de\n",
    "2. Marius Mosbach s9msmosb@stud.uni-saarland.de\n",
    "3. Rajarshi Biswas rbisw17@gmail.com\n",
    "4. Marimuthu Kalimuthu s8makali@stud.uni-saarland.de\n",
    "\n",
    "**If you are in a team, please submit only 1 solution to only 1 tutor.**"
   ]
  }
 ],
 "metadata": {
  "kernelspec": {
   "display_name": "Python 3",
   "language": "python",
   "name": "python3"
  },
  "language_info": {
   "codemirror_mode": {
    "name": "ipython",
    "version": 3
   },
   "file_extension": ".py",
   "mimetype": "text/x-python",
   "name": "python",
   "nbconvert_exporter": "python",
   "pygments_lexer": "ipython3",
   "version": "3.6.2"
  }
 },
 "nbformat": 4,
 "nbformat_minor": 2
}
